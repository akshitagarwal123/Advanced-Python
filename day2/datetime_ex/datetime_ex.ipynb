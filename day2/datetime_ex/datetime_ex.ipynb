{
 "cells": [
  {
   "cell_type": "code",
   "execution_count": 1,
   "id": "e58c4ce6",
   "metadata": {},
   "outputs": [],
   "source": [
    "from datetime import datetime"
   ]
  },
  {
   "cell_type": "code",
   "execution_count": 2,
   "id": "2c98a02c",
   "metadata": {},
   "outputs": [],
   "source": [
    "t = datetime.now()"
   ]
  },
  {
   "cell_type": "code",
   "execution_count": 3,
   "id": "2e1877df",
   "metadata": {},
   "outputs": [
    {
     "data": {
      "text/plain": [
       "datetime.datetime(2022, 8, 9, 9, 49, 40, 661804)"
      ]
     },
     "execution_count": 3,
     "metadata": {},
     "output_type": "execute_result"
    }
   ],
   "source": [
    "t"
   ]
  },
  {
   "cell_type": "code",
   "execution_count": 4,
   "id": "59eb8a4f",
   "metadata": {},
   "outputs": [
    {
     "data": {
      "text/plain": [
       "(9, 8, 2022)"
      ]
     },
     "execution_count": 4,
     "metadata": {},
     "output_type": "execute_result"
    }
   ],
   "source": [
    "t.day, t.month, t.year"
   ]
  },
  {
   "cell_type": "code",
   "execution_count": 5,
   "id": "6f4ee36e",
   "metadata": {},
   "outputs": [
    {
     "data": {
      "text/plain": [
       "(9, 49, 40)"
      ]
     },
     "execution_count": 5,
     "metadata": {},
     "output_type": "execute_result"
    }
   ],
   "source": [
    "t.hour, t.minute, t.second"
   ]
  },
  {
   "cell_type": "code",
   "execution_count": 6,
   "id": "cbc2591b",
   "metadata": {},
   "outputs": [
    {
     "data": {
      "text/plain": [
       "(661804, None)"
      ]
     },
     "execution_count": 6,
     "metadata": {},
     "output_type": "execute_result"
    }
   ],
   "source": [
    "t.microsecond, t.tzinfo"
   ]
  },
  {
   "cell_type": "code",
   "execution_count": 7,
   "id": "3dba7095",
   "metadata": {},
   "outputs": [
    {
     "data": {
      "text/plain": [
       "'Tuesday, 09 August, 2022 09:49 AM'"
      ]
     },
     "execution_count": 7,
     "metadata": {},
     "output_type": "execute_result"
    }
   ],
   "source": [
    "# Tuesday, 09 August, 2022 9:40 AM\n",
    "f = \"%A, %d %B, %Y %I:%M %p\"\n",
    "t.strftime(f)"
   ]
  },
  {
   "cell_type": "code",
   "execution_count": 8,
   "id": "789abc35",
   "metadata": {},
   "outputs": [],
   "source": [
    "ts = t.strftime(f)"
   ]
  },
  {
   "cell_type": "code",
   "execution_count": 13,
   "id": "3e59347d",
   "metadata": {},
   "outputs": [],
   "source": [
    "to = datetime.strptime(ts, f)"
   ]
  },
  {
   "cell_type": "code",
   "execution_count": 14,
   "id": "10230add",
   "metadata": {},
   "outputs": [
    {
     "data": {
      "text/plain": [
       "(2022, 8)"
      ]
     },
     "execution_count": 14,
     "metadata": {},
     "output_type": "execute_result"
    }
   ],
   "source": [
    "to.year, to.month"
   ]
  },
  {
   "cell_type": "code",
   "execution_count": 15,
   "id": "c13e812e",
   "metadata": {},
   "outputs": [],
   "source": [
    "t1 = datetime.now()"
   ]
  },
  {
   "cell_type": "code",
   "execution_count": 16,
   "id": "54bed393",
   "metadata": {},
   "outputs": [
    {
     "data": {
      "text/plain": [
       "datetime.timedelta(seconds=622, microseconds=113578)"
      ]
     },
     "execution_count": 16,
     "metadata": {},
     "output_type": "execute_result"
    }
   ],
   "source": [
    "t1 - t"
   ]
  },
  {
   "cell_type": "code",
   "execution_count": null,
   "id": "f93df39f",
   "metadata": {},
   "outputs": [],
   "source": []
  }
 ],
 "metadata": {
  "kernelspec": {
   "display_name": "Python 3 (ipykernel)",
   "language": "python",
   "name": "python3"
  },
  "language_info": {
   "codemirror_mode": {
    "name": "ipython",
    "version": 3
   },
   "file_extension": ".py",
   "mimetype": "text/x-python",
   "name": "python",
   "nbconvert_exporter": "python",
   "pygments_lexer": "ipython3",
   "version": "3.9.12"
  }
 },
 "nbformat": 4,
 "nbformat_minor": 5
}
