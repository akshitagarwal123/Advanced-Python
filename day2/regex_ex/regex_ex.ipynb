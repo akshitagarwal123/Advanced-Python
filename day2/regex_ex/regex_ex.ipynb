{
 "cells": [
  {
   "cell_type": "code",
   "execution_count": 1,
   "id": "e63e73b2",
   "metadata": {},
   "outputs": [],
   "source": [
    "import re"
   ]
  },
  {
   "cell_type": "code",
   "execution_count": 2,
   "id": "874d9728",
   "metadata": {},
   "outputs": [],
   "source": [
    "text = \"This statement consists of -45.678 floating point +89.445 numbers\""
   ]
  },
  {
   "cell_type": "code",
   "execution_count": 3,
   "id": "af3b6090",
   "metadata": {},
   "outputs": [],
   "source": [
    "pattern = \"[+-]?\\d+\\.?\\d*\""
   ]
  },
  {
   "cell_type": "code",
   "execution_count": 4,
   "id": "471fe338",
   "metadata": {},
   "outputs": [],
   "source": [
    "m = re.search(pattern, text)"
   ]
  },
  {
   "cell_type": "code",
   "execution_count": 5,
   "id": "3f327903",
   "metadata": {},
   "outputs": [
    {
     "data": {
      "text/plain": [
       "<re.Match object; span=(27, 34), match='-45.678'>"
      ]
     },
     "execution_count": 5,
     "metadata": {},
     "output_type": "execute_result"
    }
   ],
   "source": [
    "m"
   ]
  },
  {
   "cell_type": "code",
   "execution_count": 6,
   "id": "3f4dc940",
   "metadata": {},
   "outputs": [
    {
     "data": {
      "text/plain": [
       "'-45.678'"
      ]
     },
     "execution_count": 6,
     "metadata": {},
     "output_type": "execute_result"
    }
   ],
   "source": [
    "text[27:34]"
   ]
  },
  {
   "cell_type": "code",
   "execution_count": 7,
   "id": "fad0dc11",
   "metadata": {},
   "outputs": [
    {
     "data": {
      "text/plain": [
       "'-45.678'"
      ]
     },
     "execution_count": 7,
     "metadata": {},
     "output_type": "execute_result"
    }
   ],
   "source": [
    "m.group()"
   ]
  },
  {
   "cell_type": "code",
   "execution_count": 8,
   "id": "05f22e0f",
   "metadata": {},
   "outputs": [
    {
     "data": {
      "text/plain": [
       "(27, 34)"
      ]
     },
     "execution_count": 8,
     "metadata": {},
     "output_type": "execute_result"
    }
   ],
   "source": [
    "m.span()"
   ]
  },
  {
   "cell_type": "code",
   "execution_count": 9,
   "id": "9c463bcb",
   "metadata": {},
   "outputs": [
    {
     "data": {
      "text/plain": [
       "(27, 34)"
      ]
     },
     "execution_count": 9,
     "metadata": {},
     "output_type": "execute_result"
    }
   ],
   "source": [
    "m.start(), m.end()"
   ]
  },
  {
   "cell_type": "code",
   "execution_count": 10,
   "id": "8bfcada1",
   "metadata": {},
   "outputs": [],
   "source": [
    "pattern = \"([+-]?)(\\d+)\\.?(\\d*)\""
   ]
  },
  {
   "cell_type": "code",
   "execution_count": 11,
   "id": "e2f8fd42",
   "metadata": {},
   "outputs": [
    {
     "data": {
      "text/plain": [
       "[('-', '45', '678'), ('+', '89', '445')]"
      ]
     },
     "execution_count": 11,
     "metadata": {},
     "output_type": "execute_result"
    }
   ],
   "source": [
    "re.findall(pattern, text)"
   ]
  },
  {
   "cell_type": "code",
   "execution_count": 19,
   "id": "2906e722",
   "metadata": {},
   "outputs": [],
   "source": [
    "pattern = \"(?P<sign>[+-]?)(?P<integer>\\d+)\\.?(?P<decimal>\\d*)\""
   ]
  },
  {
   "cell_type": "code",
   "execution_count": 20,
   "id": "efecea68",
   "metadata": {},
   "outputs": [],
   "source": [
    "m = re.finditer(pattern, text)"
   ]
  },
  {
   "cell_type": "code",
   "execution_count": 21,
   "id": "63b84f6b",
   "metadata": {},
   "outputs": [
    {
     "name": "stdout",
     "output_type": "stream",
     "text": [
      "(27, 34) -45.678\n",
      "(50, 57) +89.445\n"
     ]
    }
   ],
   "source": [
    "for obj in m:\n",
    "    print(obj.span(), obj.group())"
   ]
  },
  {
   "cell_type": "code",
   "execution_count": 22,
   "id": "07014e92",
   "metadata": {},
   "outputs": [
    {
     "name": "stdout",
     "output_type": "stream",
     "text": [
      "(27, 34) ('-', '45', '678')\n",
      "(50, 57) ('+', '89', '445')\n"
     ]
    }
   ],
   "source": [
    "m = re.finditer(pattern, text)\n",
    "for obj in m:\n",
    "    print(obj.span(), obj.groups())"
   ]
  },
  {
   "cell_type": "code",
   "execution_count": 23,
   "id": "e84be5f1",
   "metadata": {},
   "outputs": [
    {
     "name": "stdout",
     "output_type": "stream",
     "text": [
      "(27, 34) {'sign': '-', 'integer': '45', 'decimal': '678'}\n",
      "(50, 57) {'sign': '+', 'integer': '89', 'decimal': '445'}\n"
     ]
    }
   ],
   "source": [
    "m = re.finditer(pattern, text)\n",
    "for obj in m:\n",
    "    print(obj.span(), obj.groupdict())"
   ]
  },
  {
   "cell_type": "code",
   "execution_count": null,
   "id": "7596b4d6",
   "metadata": {},
   "outputs": [],
   "source": []
  }
 ],
 "metadata": {
  "kernelspec": {
   "display_name": "Python 3 (ipykernel)",
   "language": "python",
   "name": "python3"
  },
  "language_info": {
   "codemirror_mode": {
    "name": "ipython",
    "version": 3
   },
   "file_extension": ".py",
   "mimetype": "text/x-python",
   "name": "python",
   "nbconvert_exporter": "python",
   "pygments_lexer": "ipython3",
   "version": "3.9.12"
  }
 },
 "nbformat": 4,
 "nbformat_minor": 5
}
