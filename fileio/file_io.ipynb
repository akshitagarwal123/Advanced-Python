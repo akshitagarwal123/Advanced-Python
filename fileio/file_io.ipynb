{
 "cells": [
  {
   "cell_type": "raw",
   "id": "ca2b85a9",
   "metadata": {},
   "source": [
    "Operations on the text file:\n",
    "    \n",
    "    1. open(), close()\n",
    "    2. mode -> r, w, a, b\n",
    "    3. read(), readline(), readlines()\n",
    "    4. write(), writelines()\n",
    "    5. seek(), tell()"
   ]
  },
  {
   "cell_type": "markdown",
   "id": "1d0d4eca",
   "metadata": {},
   "source": [
    "### 1. Reading a file"
   ]
  },
  {
   "cell_type": "code",
   "execution_count": 1,
   "id": "90c1e89e",
   "metadata": {},
   "outputs": [
    {
     "ename": "SyntaxError",
     "evalue": "(unicode error) 'unicodeescape' codec can't decode bytes in position 2-3: truncated \\UXXXXXXXX escape (3416265093.py, line 1)",
     "output_type": "error",
     "traceback": [
      "\u001b[1;36m  Input \u001b[1;32mIn [1]\u001b[1;36m\u001b[0m\n\u001b[1;33m    path = \"C:\\Users\\Admin\\Desktop\\oracle\\day1\\fileio\\song.txt\"\u001b[0m\n\u001b[1;37m                                                               ^\u001b[0m\n\u001b[1;31mSyntaxError\u001b[0m\u001b[1;31m:\u001b[0m (unicode error) 'unicodeescape' codec can't decode bytes in position 2-3: truncated \\UXXXXXXXX escape\n"
     ]
    }
   ],
   "source": [
    "path = \"C:\\Users\\Admin\\Desktop\\oracle\\day1\\fileio\\song.txt\""
   ]
  },
  {
   "cell_type": "code",
   "execution_count": 2,
   "id": "6f600303",
   "metadata": {},
   "outputs": [],
   "source": [
    "path = r\"C:\\Users\\Admin\\Desktop\\oracle\\day1\\fileio\\song.txt\""
   ]
  },
  {
   "cell_type": "code",
   "execution_count": 3,
   "id": "7189602b",
   "metadata": {},
   "outputs": [
    {
     "data": {
      "text/plain": [
       "<_io.TextIOWrapper name='C:\\\\Users\\\\Admin\\\\Desktop\\\\oracle\\\\day1\\\\fileio\\\\song.txt' mode='r' encoding='cp1252'>"
      ]
     },
     "execution_count": 3,
     "metadata": {},
     "output_type": "execute_result"
    }
   ],
   "source": [
    "f = open(path, 'r')\n",
    "f"
   ]
  },
  {
   "cell_type": "code",
   "execution_count": 4,
   "id": "4fae74e8",
   "metadata": {},
   "outputs": [],
   "source": [
    "content = f.read()"
   ]
  },
  {
   "cell_type": "code",
   "execution_count": 5,
   "id": "0ef8fb3e",
   "metadata": {},
   "outputs": [
    {
     "name": "stdout",
     "output_type": "stream",
     "text": [
      "On a dark desert highway, cool wind in my hair\n",
      "Warm smell of colitas, rising up through the air\n",
      "Up ahead in the distance, I saw a shimmering light\n",
      "My head grew heavy and my sight grew dim\n",
      "I had to stop for the night\n",
      "There she stood in the doorway\n",
      "I heard the mission bell\n",
      "And I was thinking to myself\n",
      "\"This could be Heaven or this could be Hell\"\n",
      "Then she lit up a candle\n",
      "And she showed me the way\n",
      "There were voices down the corridor\n",
      "I thought I heard them say\n",
      "\"Welcome to the Hotel California\n",
      "Such a lovely place (such a lovely place)\n",
      "Such a lovely face\n",
      "Plenty of room at the Hotel California\n",
      "Any time of year (any time of year)\n",
      "You can find it here\"\n",
      "Her mind is Tiffany-twisted, she got the Mercedes bends, uh\n",
      "She got a lot of pretty, pretty boys that she calls friends\n",
      "How they dance in the courtyard, sweet summer sweat\n",
      "Some dance to remember, some dance to forget\n",
      "So I called up the Captain, \"Please bring me my wine\"\n",
      "He said, \"We haven't had that spirit here since 1969\"\n",
      "And still those voices are calling from far away\n",
      "Wake you up in the middle of the night\n",
      "Just to hear them say\n",
      "\"Welcome to the Hotel California\n",
      "Such a lovely place (such a lovely place)\n",
      "Such a lovely face\n",
      "They livin' it up at the Hotel California\n",
      "What a nice surprise (what a nice surprise)\n",
      "Bring your alibis\"\n",
      "Mirrors on the ceiling, the pink champagne on ice\n",
      "And she said, \"We are all just prisoners here of our own device\"\n",
      "And in the master's chambers they gathered for the feast\n",
      "They stab it with their steely knives, but they just can't kill the beast\n",
      "Last thing I remember, I was running for the door\n",
      "I had to find the passage back to the place I was before\n",
      "\"Relax,\" said the night man, \"We are programmed to receive\n",
      "You can check out any time you like, but you can never leave\"\n"
     ]
    }
   ],
   "source": [
    "print(content)"
   ]
  },
  {
   "cell_type": "code",
   "execution_count": 6,
   "id": "dbc1413b",
   "metadata": {},
   "outputs": [
    {
     "data": {
      "text/plain": [
       "str"
      ]
     },
     "execution_count": 6,
     "metadata": {},
     "output_type": "execute_result"
    }
   ],
   "source": [
    "type(content)"
   ]
  },
  {
   "cell_type": "markdown",
   "id": "3dcf679f",
   "metadata": {},
   "source": [
    "##### read() reads the entire content of the file as a single string\n",
    "##### Also, read() can be used to read chunks of data"
   ]
  },
  {
   "cell_type": "code",
   "execution_count": 7,
   "id": "150922da",
   "metadata": {},
   "outputs": [
    {
     "data": {
      "text/plain": [
       "''"
      ]
     },
     "execution_count": 7,
     "metadata": {},
     "output_type": "execute_result"
    }
   ],
   "source": [
    "f.read(100)"
   ]
  },
  {
   "cell_type": "code",
   "execution_count": 8,
   "id": "697e59a9",
   "metadata": {},
   "outputs": [
    {
     "data": {
      "text/plain": [
       "1799"
      ]
     },
     "execution_count": 8,
     "metadata": {},
     "output_type": "execute_result"
    }
   ],
   "source": [
    "f.tell() # Where is the pointer/cursor? It's at the end of the file after read()"
   ]
  },
  {
   "cell_type": "code",
   "execution_count": 9,
   "id": "9713d3e9",
   "metadata": {},
   "outputs": [
    {
     "data": {
      "text/plain": [
       "1758"
      ]
     },
     "execution_count": 9,
     "metadata": {},
     "output_type": "execute_result"
    }
   ],
   "source": [
    "len(content)"
   ]
  },
  {
   "cell_type": "code",
   "execution_count": 10,
   "id": "eb18fb69",
   "metadata": {},
   "outputs": [
    {
     "data": {
      "text/plain": [
       "0"
      ]
     },
     "execution_count": 10,
     "metadata": {},
     "output_type": "execute_result"
    }
   ],
   "source": [
    "f.seek(0) # Resets the cursor to the beginning of the file"
   ]
  },
  {
   "cell_type": "code",
   "execution_count": 11,
   "id": "c6943177",
   "metadata": {},
   "outputs": [
    {
     "data": {
      "text/plain": [
       "'On a dark desert highway, cool wind in my hair\\nWarm smell of colitas, rising up through the air\\nUp a'"
      ]
     },
     "execution_count": 11,
     "metadata": {},
     "output_type": "execute_result"
    }
   ],
   "source": [
    "f.read(100) # Read a chunk of 100 bytes"
   ]
  },
  {
   "cell_type": "code",
   "execution_count": 12,
   "id": "e4eca089",
   "metadata": {},
   "outputs": [
    {
     "data": {
      "text/plain": [
       "'head in the distance, I saw a shimmering light\\nMy head grew heavy and my sight grew dim\\nI had to sto'"
      ]
     },
     "execution_count": 12,
     "metadata": {},
     "output_type": "execute_result"
    }
   ],
   "source": [
    "f.read(100)"
   ]
  },
  {
   "cell_type": "code",
   "execution_count": 13,
   "id": "2ce6a896",
   "metadata": {},
   "outputs": [
    {
     "data": {
      "text/plain": [
       "0"
      ]
     },
     "execution_count": 13,
     "metadata": {},
     "output_type": "execute_result"
    }
   ],
   "source": [
    "f.seek(0) # Resets the cursor to the beginning of the file"
   ]
  },
  {
   "cell_type": "code",
   "execution_count": 14,
   "id": "24eab201",
   "metadata": {},
   "outputs": [
    {
     "data": {
      "text/plain": [
       "'On a dark desert highway, cool wind in my hair\\n'"
      ]
     },
     "execution_count": 14,
     "metadata": {},
     "output_type": "execute_result"
    }
   ],
   "source": [
    "f.readline() # Reads one line of file"
   ]
  },
  {
   "cell_type": "code",
   "execution_count": 15,
   "id": "77730ff9",
   "metadata": {},
   "outputs": [
    {
     "data": {
      "text/plain": [
       "'Warm smell of colitas, rising up through the air\\n'"
      ]
     },
     "execution_count": 15,
     "metadata": {},
     "output_type": "execute_result"
    }
   ],
   "source": [
    "f.readline()"
   ]
  },
  {
   "cell_type": "code",
   "execution_count": 16,
   "id": "7d39415a",
   "metadata": {},
   "outputs": [
    {
     "data": {
      "text/plain": [
       "['Up ahead in the distance, I saw a shimmering light\\n',\n",
       " 'My head grew heavy and my sight grew dim\\n',\n",
       " 'I had to stop for the night\\n',\n",
       " 'There she stood in the doorway\\n',\n",
       " 'I heard the mission bell\\n']"
      ]
     },
     "execution_count": 16,
     "metadata": {},
     "output_type": "execute_result"
    }
   ],
   "source": [
    "[f.readline() for i in range(5)]"
   ]
  },
  {
   "cell_type": "code",
   "execution_count": 17,
   "id": "febca6f6",
   "metadata": {},
   "outputs": [
    {
     "data": {
      "text/plain": [
       "['And I was thinking to myself\\n',\n",
       " '\"This could be Heaven or this could be Hell\"\\n',\n",
       " 'Then she lit up a candle\\n',\n",
       " 'And she showed me the way\\n',\n",
       " 'There were voices down the corridor\\n']"
      ]
     },
     "execution_count": 17,
     "metadata": {},
     "output_type": "execute_result"
    }
   ],
   "source": [
    "[f.readline() for i in range(5)]"
   ]
  },
  {
   "cell_type": "code",
   "execution_count": 18,
   "id": "c7b27d9a",
   "metadata": {},
   "outputs": [
    {
     "data": {
      "text/plain": [
       "0"
      ]
     },
     "execution_count": 18,
     "metadata": {},
     "output_type": "execute_result"
    }
   ],
   "source": [
    "f.seek(0)"
   ]
  },
  {
   "cell_type": "code",
   "execution_count": 19,
   "id": "f92c6682",
   "metadata": {},
   "outputs": [
    {
     "data": {
      "text/plain": [
       "['On a dark desert highway, cool wind in my hair\\n',\n",
       " 'Warm smell of colitas, rising up through the air\\n',\n",
       " 'Up ahead in the distance, I saw a shimmering light\\n',\n",
       " 'My head grew heavy and my sight grew dim\\n',\n",
       " 'I had to stop for the night\\n',\n",
       " 'There she stood in the doorway\\n',\n",
       " 'I heard the mission bell\\n',\n",
       " 'And I was thinking to myself\\n',\n",
       " '\"This could be Heaven or this could be Hell\"\\n',\n",
       " 'Then she lit up a candle\\n',\n",
       " 'And she showed me the way\\n',\n",
       " 'There were voices down the corridor\\n',\n",
       " 'I thought I heard them say\\n',\n",
       " '\"Welcome to the Hotel California\\n',\n",
       " 'Such a lovely place (such a lovely place)\\n',\n",
       " 'Such a lovely face\\n',\n",
       " 'Plenty of room at the Hotel California\\n',\n",
       " 'Any time of year (any time of year)\\n',\n",
       " 'You can find it here\"\\n',\n",
       " 'Her mind is Tiffany-twisted, she got the Mercedes bends, uh\\n',\n",
       " 'She got a lot of pretty, pretty boys that she calls friends\\n',\n",
       " 'How they dance in the courtyard, sweet summer sweat\\n',\n",
       " 'Some dance to remember, some dance to forget\\n',\n",
       " 'So I called up the Captain, \"Please bring me my wine\"\\n',\n",
       " 'He said, \"We haven\\'t had that spirit here since 1969\"\\n',\n",
       " 'And still those voices are calling from far away\\n',\n",
       " 'Wake you up in the middle of the night\\n',\n",
       " 'Just to hear them say\\n',\n",
       " '\"Welcome to the Hotel California\\n',\n",
       " 'Such a lovely place (such a lovely place)\\n',\n",
       " 'Such a lovely face\\n',\n",
       " \"They livin' it up at the Hotel California\\n\",\n",
       " 'What a nice surprise (what a nice surprise)\\n',\n",
       " 'Bring your alibis\"\\n',\n",
       " 'Mirrors on the ceiling, the pink champagne on ice\\n',\n",
       " 'And she said, \"We are all just prisoners here of our own device\"\\n',\n",
       " \"And in the master's chambers they gathered for the feast\\n\",\n",
       " \"They stab it with their steely knives, but they just can't kill the beast\\n\",\n",
       " 'Last thing I remember, I was running for the door\\n',\n",
       " 'I had to find the passage back to the place I was before\\n',\n",
       " '\"Relax,\" said the night man, \"We are programmed to receive\\n',\n",
       " 'You can check out any time you like, but you can never leave\"']"
      ]
     },
     "execution_count": 19,
     "metadata": {},
     "output_type": "execute_result"
    }
   ],
   "source": [
    "data = f.readlines() # This also reads the entire content of the file, return a list of lines\n",
    "data"
   ]
  },
  {
   "cell_type": "code",
   "execution_count": 21,
   "id": "5288146e",
   "metadata": {},
   "outputs": [
    {
     "data": {
      "text/plain": [
       "['On a dark desert highway, cool wind in my hair\\n',\n",
       " 'Warm smell of colitas, rising up through the air\\n',\n",
       " 'Up ahead in the distance, I saw a shimmering light\\n']"
      ]
     },
     "execution_count": 21,
     "metadata": {},
     "output_type": "execute_result"
    }
   ],
   "source": [
    "f.seek(0)\n",
    "f.readlines(100) # 100 is a hint only, does not represent an exact number"
   ]
  },
  {
   "cell_type": "code",
   "execution_count": 22,
   "id": "96f0097e",
   "metadata": {},
   "outputs": [],
   "source": [
    "f.close()"
   ]
  },
  {
   "cell_type": "markdown",
   "id": "b07899e3",
   "metadata": {},
   "source": [
    "### 2. Write to a file"
   ]
  },
  {
   "cell_type": "code",
   "execution_count": 23,
   "id": "b7edddc6",
   "metadata": {},
   "outputs": [],
   "source": [
    "f = open('song_analysis.txt', 'w')"
   ]
  },
  {
   "cell_type": "code",
   "execution_count": 24,
   "id": "e5b0cc94",
   "metadata": {},
   "outputs": [
    {
     "data": {
      "text/plain": [
       "14"
      ]
     },
     "execution_count": 24,
     "metadata": {},
     "output_type": "execute_result"
    }
   ],
   "source": [
    "f.write('Song Analysis\\n')"
   ]
  },
  {
   "cell_type": "code",
   "execution_count": 25,
   "id": "bd19a5b5",
   "metadata": {},
   "outputs": [],
   "source": [
    "f.writelines(['Hotel California by Eagles\\n', '----------------------------------------------\\n\\n'])"
   ]
  },
  {
   "cell_type": "code",
   "execution_count": 26,
   "id": "87c616a7",
   "metadata": {},
   "outputs": [],
   "source": [
    "f.close()"
   ]
  },
  {
   "cell_type": "code",
   "execution_count": 32,
   "id": "6ef47680",
   "metadata": {},
   "outputs": [
    {
     "data": {
      "text/plain": [
       "['mary', 'had', 'a', 'little', 'lamb']"
      ]
     },
     "execution_count": 32,
     "metadata": {},
     "output_type": "execute_result"
    }
   ],
   "source": [
    "s = \"mary had a little lamb\"\n",
    "s.split()"
   ]
  },
  {
   "cell_type": "code",
   "execution_count": 33,
   "id": "ea4053e6",
   "metadata": {},
   "outputs": [
    {
     "data": {
      "text/plain": [
       "'On a dark desert highway, cool wind in my hair\\nWarm smell of colitas, rising up through the air\\nUp ahead in the distance, I saw a shimmering light\\nMy head grew heavy and my sight grew dim\\nI had to stop for the night\\nThere she stood in the doorway\\nI heard the mission bell\\nAnd I was thinking to myself\\n\"This could be Heaven or this could be Hell\"\\nThen she lit up a candle\\nAnd she showed me the way\\nThere were voices down the corridor\\nI thought I heard them say\\n\"Welcome to the Hotel California\\nSuch a lovely place (such a lovely place)\\nSuch a lovely face\\nPlenty of room at the Hotel California\\nAny time of year (any time of year)\\nYou can find it here\"\\nHer mind is Tiffany-twisted, she got the Mercedes bends, uh\\nShe got a lot of pretty, pretty boys that she calls friends\\nHow they dance in the courtyard, sweet summer sweat\\nSome dance to remember, some dance to forget\\nSo I called up the Captain, \"Please bring me my wine\"\\nHe said, \"We haven\\'t had that spirit here since 1969\"\\nAnd still those voices are calling from far away\\nWake you up in the middle of the night\\nJust to hear them say\\n\"Welcome to the Hotel California\\nSuch a lovely place (such a lovely place)\\nSuch a lovely face\\nThey livin\\' it up at the Hotel California\\nWhat a nice surprise (what a nice surprise)\\nBring your alibis\"\\nMirrors on the ceiling, the pink champagne on ice\\nAnd she said, \"We are all just prisoners here of our own device\"\\nAnd in the master\\'s chambers they gathered for the feast\\nThey stab it with their steely knives, but they just can\\'t kill the beast\\nLast thing I remember, I was running for the door\\nI had to find the passage back to the place I was before\\n\"Relax,\" said the night man, \"We are programmed to receive\\nYou can check out any time you like, but you can never leave\"'"
      ]
     },
     "execution_count": 33,
     "metadata": {},
     "output_type": "execute_result"
    }
   ],
   "source": [
    "content"
   ]
  },
  {
   "cell_type": "code",
   "execution_count": 34,
   "id": "a9a597c2",
   "metadata": {},
   "outputs": [],
   "source": [
    "import re\n",
    "pattern = r'[\"]'"
   ]
  },
  {
   "cell_type": "code",
   "execution_count": 37,
   "id": "309159ec",
   "metadata": {},
   "outputs": [
    {
     "data": {
      "text/plain": [
       "'this has \"apples\" a double quote'"
      ]
     },
     "execution_count": 37,
     "metadata": {},
     "output_type": "execute_result"
    }
   ],
   "source": [
    "text = 'this has \"apples\" a double quote'\n",
    "text"
   ]
  },
  {
   "cell_type": "code",
   "execution_count": 38,
   "id": "c1edf6cd",
   "metadata": {},
   "outputs": [
    {
     "data": {
      "text/plain": [
       "'this has apples a double quote'"
      ]
     },
     "execution_count": 38,
     "metadata": {},
     "output_type": "execute_result"
    }
   ],
   "source": [
    "re.sub(pattern, '', text)"
   ]
  },
  {
   "cell_type": "code",
   "execution_count": 43,
   "id": "20928ecc",
   "metadata": {},
   "outputs": [],
   "source": [
    "pattern = r'[\"\\'\\(\\)-]'\n",
    "content2 = re.sub(pattern, '', content)"
   ]
  },
  {
   "cell_type": "code",
   "execution_count": 45,
   "id": "abd0dc8c",
   "metadata": {},
   "outputs": [],
   "source": [
    "words = content2.lower().split()"
   ]
  },
  {
   "cell_type": "code",
   "execution_count": 46,
   "id": "5700e004",
   "metadata": {},
   "outputs": [],
   "source": [
    "from collections import Counter\n",
    "wordhist = Counter(words)"
   ]
  },
  {
   "cell_type": "code",
   "execution_count": 47,
   "id": "fccbfd46",
   "metadata": {},
   "outputs": [
    {
     "data": {
      "text/plain": [
       "Counter({'on': 3,\n",
       "         'a': 12,\n",
       "         'dark': 1,\n",
       "         'desert': 1,\n",
       "         'highway,': 1,\n",
       "         'cool': 1,\n",
       "         'wind': 1,\n",
       "         'in': 6,\n",
       "         'my': 4,\n",
       "         'hair': 1,\n",
       "         'warm': 1,\n",
       "         'smell': 1,\n",
       "         'of': 7,\n",
       "         'colitas,': 1,\n",
       "         'rising': 1,\n",
       "         'up': 6,\n",
       "         'through': 1,\n",
       "         'the': 25,\n",
       "         'air': 1,\n",
       "         'ahead': 1,\n",
       "         'distance,': 1,\n",
       "         'i': 11,\n",
       "         'saw': 1,\n",
       "         'shimmering': 1,\n",
       "         'light': 1,\n",
       "         'head': 1,\n",
       "         'grew': 2,\n",
       "         'heavy': 1,\n",
       "         'and': 6,\n",
       "         'sight': 1,\n",
       "         'dim': 1,\n",
       "         'had': 3,\n",
       "         'to': 10,\n",
       "         'stop': 1,\n",
       "         'for': 3,\n",
       "         'night': 3,\n",
       "         'there': 2,\n",
       "         'she': 7,\n",
       "         'stood': 1,\n",
       "         'doorway': 1,\n",
       "         'heard': 2,\n",
       "         'mission': 1,\n",
       "         'bell': 1,\n",
       "         'was': 3,\n",
       "         'thinking': 1,\n",
       "         'myself': 1,\n",
       "         'this': 2,\n",
       "         'could': 2,\n",
       "         'be': 2,\n",
       "         'heaven': 1,\n",
       "         'or': 1,\n",
       "         'hell': 1,\n",
       "         'then': 1,\n",
       "         'lit': 1,\n",
       "         'candle': 1,\n",
       "         'showed': 1,\n",
       "         'me': 2,\n",
       "         'way': 1,\n",
       "         'were': 1,\n",
       "         'voices': 2,\n",
       "         'down': 1,\n",
       "         'corridor': 1,\n",
       "         'thought': 1,\n",
       "         'them': 2,\n",
       "         'say': 2,\n",
       "         'welcome': 2,\n",
       "         'hotel': 4,\n",
       "         'california': 4,\n",
       "         'such': 6,\n",
       "         'lovely': 6,\n",
       "         'place': 5,\n",
       "         'face': 2,\n",
       "         'plenty': 1,\n",
       "         'room': 1,\n",
       "         'at': 2,\n",
       "         'any': 3,\n",
       "         'time': 3,\n",
       "         'year': 2,\n",
       "         'you': 5,\n",
       "         'can': 3,\n",
       "         'find': 2,\n",
       "         'it': 3,\n",
       "         'here': 3,\n",
       "         'her': 1,\n",
       "         'mind': 1,\n",
       "         'is': 1,\n",
       "         'tiffany-twisted,': 1,\n",
       "         'got': 2,\n",
       "         'mercedes': 1,\n",
       "         'bends,': 1,\n",
       "         'uh': 1,\n",
       "         'lot': 1,\n",
       "         'pretty,': 1,\n",
       "         'pretty': 1,\n",
       "         'boys': 1,\n",
       "         'that': 2,\n",
       "         'calls': 1,\n",
       "         'friends': 1,\n",
       "         'how': 1,\n",
       "         'they': 5,\n",
       "         'dance': 3,\n",
       "         'courtyard,': 1,\n",
       "         'sweet': 1,\n",
       "         'summer': 1,\n",
       "         'sweat': 1,\n",
       "         'some': 2,\n",
       "         'remember,': 2,\n",
       "         'forget': 1,\n",
       "         'so': 1,\n",
       "         'called': 1,\n",
       "         'captain,': 1,\n",
       "         'please': 1,\n",
       "         'bring': 2,\n",
       "         'wine': 1,\n",
       "         'he': 1,\n",
       "         'said,': 2,\n",
       "         'we': 3,\n",
       "         'havent': 1,\n",
       "         'spirit': 1,\n",
       "         'since': 1,\n",
       "         '1969': 1,\n",
       "         'still': 1,\n",
       "         'those': 1,\n",
       "         'are': 3,\n",
       "         'calling': 1,\n",
       "         'from': 1,\n",
       "         'far': 1,\n",
       "         'away': 1,\n",
       "         'wake': 1,\n",
       "         'middle': 1,\n",
       "         'just': 3,\n",
       "         'hear': 1,\n",
       "         'livin': 1,\n",
       "         'what': 2,\n",
       "         'nice': 2,\n",
       "         'surprise': 2,\n",
       "         'your': 1,\n",
       "         'alibis': 1,\n",
       "         'mirrors': 1,\n",
       "         'ceiling,': 1,\n",
       "         'pink': 1,\n",
       "         'champagne': 1,\n",
       "         'ice': 1,\n",
       "         'all': 1,\n",
       "         'prisoners': 1,\n",
       "         'our': 1,\n",
       "         'own': 1,\n",
       "         'device': 1,\n",
       "         'masters': 1,\n",
       "         'chambers': 1,\n",
       "         'gathered': 1,\n",
       "         'feast': 1,\n",
       "         'stab': 1,\n",
       "         'with': 1,\n",
       "         'their': 1,\n",
       "         'steely': 1,\n",
       "         'knives,': 1,\n",
       "         'but': 2,\n",
       "         'cant': 1,\n",
       "         'kill': 1,\n",
       "         'beast': 1,\n",
       "         'last': 1,\n",
       "         'thing': 1,\n",
       "         'running': 1,\n",
       "         'door': 1,\n",
       "         'passage': 1,\n",
       "         'back': 1,\n",
       "         'before': 1,\n",
       "         'relax,': 1,\n",
       "         'said': 1,\n",
       "         'man,': 1,\n",
       "         'programmed': 1,\n",
       "         'receive': 1,\n",
       "         'check': 1,\n",
       "         'out': 1,\n",
       "         'like,': 1,\n",
       "         'never': 1,\n",
       "         'leave': 1})"
      ]
     },
     "execution_count": 47,
     "metadata": {},
     "output_type": "execute_result"
    }
   ],
   "source": [
    "wordhist"
   ]
  },
  {
   "cell_type": "code",
   "execution_count": 49,
   "id": "8baebea0",
   "metadata": {},
   "outputs": [
    {
     "data": {
      "text/plain": [
       "['                  on|3    \\n',\n",
       " '                   a|12   \\n',\n",
       " '                dark|1    \\n',\n",
       " '              desert|1    \\n',\n",
       " '            highway,|1    \\n',\n",
       " '                cool|1    \\n',\n",
       " '                wind|1    \\n',\n",
       " '                  in|6    \\n',\n",
       " '                  my|4    \\n',\n",
       " '                hair|1    \\n',\n",
       " '                warm|1    \\n',\n",
       " '               smell|1    \\n',\n",
       " '                  of|7    \\n',\n",
       " '            colitas,|1    \\n',\n",
       " '              rising|1    \\n',\n",
       " '                  up|6    \\n',\n",
       " '             through|1    \\n',\n",
       " '                 the|25   \\n',\n",
       " '                 air|1    \\n',\n",
       " '               ahead|1    \\n',\n",
       " '           distance,|1    \\n',\n",
       " '                   i|11   \\n',\n",
       " '                 saw|1    \\n',\n",
       " '          shimmering|1    \\n',\n",
       " '               light|1    \\n',\n",
       " '                head|1    \\n',\n",
       " '                grew|2    \\n',\n",
       " '               heavy|1    \\n',\n",
       " '                 and|6    \\n',\n",
       " '               sight|1    \\n',\n",
       " '                 dim|1    \\n',\n",
       " '                 had|3    \\n',\n",
       " '                  to|10   \\n',\n",
       " '                stop|1    \\n',\n",
       " '                 for|3    \\n',\n",
       " '               night|3    \\n',\n",
       " '               there|2    \\n',\n",
       " '                 she|7    \\n',\n",
       " '               stood|1    \\n',\n",
       " '             doorway|1    \\n',\n",
       " '               heard|2    \\n',\n",
       " '             mission|1    \\n',\n",
       " '                bell|1    \\n',\n",
       " '                 was|3    \\n',\n",
       " '            thinking|1    \\n',\n",
       " '              myself|1    \\n',\n",
       " '                this|2    \\n',\n",
       " '               could|2    \\n',\n",
       " '                  be|2    \\n',\n",
       " '              heaven|1    \\n',\n",
       " '                  or|1    \\n',\n",
       " '                hell|1    \\n',\n",
       " '                then|1    \\n',\n",
       " '                 lit|1    \\n',\n",
       " '              candle|1    \\n',\n",
       " '              showed|1    \\n',\n",
       " '                  me|2    \\n',\n",
       " '                 way|1    \\n',\n",
       " '                were|1    \\n',\n",
       " '              voices|2    \\n',\n",
       " '                down|1    \\n',\n",
       " '            corridor|1    \\n',\n",
       " '             thought|1    \\n',\n",
       " '                them|2    \\n',\n",
       " '                 say|2    \\n',\n",
       " '             welcome|2    \\n',\n",
       " '               hotel|4    \\n',\n",
       " '          california|4    \\n',\n",
       " '                such|6    \\n',\n",
       " '              lovely|6    \\n',\n",
       " '               place|5    \\n',\n",
       " '                face|2    \\n',\n",
       " '              plenty|1    \\n',\n",
       " '                room|1    \\n',\n",
       " '                  at|2    \\n',\n",
       " '                 any|3    \\n',\n",
       " '                time|3    \\n',\n",
       " '                year|2    \\n',\n",
       " '                 you|5    \\n',\n",
       " '                 can|3    \\n',\n",
       " '                find|2    \\n',\n",
       " '                  it|3    \\n',\n",
       " '                here|3    \\n',\n",
       " '                 her|1    \\n',\n",
       " '                mind|1    \\n',\n",
       " '                  is|1    \\n',\n",
       " '    tiffany-twisted,|1    \\n',\n",
       " '                 got|2    \\n',\n",
       " '            mercedes|1    \\n',\n",
       " '              bends,|1    \\n',\n",
       " '                  uh|1    \\n',\n",
       " '                 lot|1    \\n',\n",
       " '             pretty,|1    \\n',\n",
       " '              pretty|1    \\n',\n",
       " '                boys|1    \\n',\n",
       " '                that|2    \\n',\n",
       " '               calls|1    \\n',\n",
       " '             friends|1    \\n',\n",
       " '                 how|1    \\n',\n",
       " '                they|5    \\n',\n",
       " '               dance|3    \\n',\n",
       " '          courtyard,|1    \\n',\n",
       " '               sweet|1    \\n',\n",
       " '              summer|1    \\n',\n",
       " '               sweat|1    \\n',\n",
       " '                some|2    \\n',\n",
       " '           remember,|2    \\n',\n",
       " '              forget|1    \\n',\n",
       " '                  so|1    \\n',\n",
       " '              called|1    \\n',\n",
       " '            captain,|1    \\n',\n",
       " '              please|1    \\n',\n",
       " '               bring|2    \\n',\n",
       " '                wine|1    \\n',\n",
       " '                  he|1    \\n',\n",
       " '               said,|2    \\n',\n",
       " '                  we|3    \\n',\n",
       " '              havent|1    \\n',\n",
       " '              spirit|1    \\n',\n",
       " '               since|1    \\n',\n",
       " '                1969|1    \\n',\n",
       " '               still|1    \\n',\n",
       " '               those|1    \\n',\n",
       " '                 are|3    \\n',\n",
       " '             calling|1    \\n',\n",
       " '                from|1    \\n',\n",
       " '                 far|1    \\n',\n",
       " '                away|1    \\n',\n",
       " '                wake|1    \\n',\n",
       " '              middle|1    \\n',\n",
       " '                just|3    \\n',\n",
       " '                hear|1    \\n',\n",
       " '               livin|1    \\n',\n",
       " '                what|2    \\n',\n",
       " '                nice|2    \\n',\n",
       " '            surprise|2    \\n',\n",
       " '                your|1    \\n',\n",
       " '              alibis|1    \\n',\n",
       " '             mirrors|1    \\n',\n",
       " '            ceiling,|1    \\n',\n",
       " '                pink|1    \\n',\n",
       " '           champagne|1    \\n',\n",
       " '                 ice|1    \\n',\n",
       " '                 all|1    \\n',\n",
       " '           prisoners|1    \\n',\n",
       " '                 our|1    \\n',\n",
       " '                 own|1    \\n',\n",
       " '              device|1    \\n',\n",
       " '             masters|1    \\n',\n",
       " '            chambers|1    \\n',\n",
       " '            gathered|1    \\n',\n",
       " '               feast|1    \\n',\n",
       " '                stab|1    \\n',\n",
       " '                with|1    \\n',\n",
       " '               their|1    \\n',\n",
       " '              steely|1    \\n',\n",
       " '             knives,|1    \\n',\n",
       " '                 but|2    \\n',\n",
       " '                cant|1    \\n',\n",
       " '                kill|1    \\n',\n",
       " '               beast|1    \\n',\n",
       " '                last|1    \\n',\n",
       " '               thing|1    \\n',\n",
       " '             running|1    \\n',\n",
       " '                door|1    \\n',\n",
       " '             passage|1    \\n',\n",
       " '                back|1    \\n',\n",
       " '              before|1    \\n',\n",
       " '              relax,|1    \\n',\n",
       " '                said|1    \\n',\n",
       " '                man,|1    \\n',\n",
       " '          programmed|1    \\n',\n",
       " '             receive|1    \\n',\n",
       " '               check|1    \\n',\n",
       " '                 out|1    \\n',\n",
       " '               like,|1    \\n',\n",
       " '               never|1    \\n',\n",
       " '               leave|1    \\n']"
      ]
     },
     "execution_count": 49,
     "metadata": {},
     "output_type": "execute_result"
    }
   ],
   "source": [
    "f = open('song_analysis.txt', 'a')\n",
    "content3 = [ str(key).rjust(20) + '|' + str(value).ljust(5) + '\\n' for key, value in wordhist.items()]\n",
    "content3"
   ]
  },
  {
   "cell_type": "code",
   "execution_count": 50,
   "id": "19d31980",
   "metadata": {},
   "outputs": [],
   "source": [
    "f.writelines(content3)"
   ]
  },
  {
   "cell_type": "code",
   "execution_count": 51,
   "id": "bcdcd7d8",
   "metadata": {},
   "outputs": [],
   "source": [
    "f.close()"
   ]
  },
  {
   "cell_type": "code",
   "execution_count": null,
   "id": "633e03bc",
   "metadata": {},
   "outputs": [],
   "source": []
  }
 ],
 "metadata": {
  "kernelspec": {
   "display_name": "Python 3 (ipykernel)",
   "language": "python",
   "name": "python3"
  },
  "language_info": {
   "codemirror_mode": {
    "name": "ipython",
    "version": 3
   },
   "file_extension": ".py",
   "mimetype": "text/x-python",
   "name": "python",
   "nbconvert_exporter": "python",
   "pygments_lexer": "ipython3",
   "version": "3.9.12"
  }
 },
 "nbformat": 4,
 "nbformat_minor": 5
}
