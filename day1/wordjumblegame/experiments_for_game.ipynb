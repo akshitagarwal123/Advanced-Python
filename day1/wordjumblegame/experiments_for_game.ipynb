{
 "cells": [
  {
   "cell_type": "markdown",
   "id": "6b1d02ce",
   "metadata": {},
   "source": [
    "#### 1. How to shuffle the list of words?"
   ]
  },
  {
   "cell_type": "code",
   "execution_count": 1,
   "id": "411999a9",
   "metadata": {},
   "outputs": [],
   "source": [
    "L = [\"red\", \"green\", \"blue\", \"yellow\", \"white\"]"
   ]
  },
  {
   "cell_type": "code",
   "execution_count": 1,
   "id": "b0cbe3a0",
   "metadata": {},
   "outputs": [
    {
     "ename": "NameError",
     "evalue": "name 'L' is not defined",
     "output_type": "error",
     "traceback": [
      "\u001b[1;31m---------------------------------------------------------------------------\u001b[0m",
      "\u001b[1;31mNameError\u001b[0m                                 Traceback (most recent call last)",
      "\u001b[1;32mc:\\Users\\Admin\\Desktop\\oracle\\day1\\wordjumblegame\\experiments_for_wjg.ipynb Cell 3\u001b[0m in \u001b[0;36m<cell line: 1>\u001b[1;34m()\u001b[0m\n\u001b[1;32m----> <a href='vscode-notebook-cell:/c%3A/Users/Admin/Desktop/oracle/day1/wordjumblegame/experiments_for_wjg.ipynb#ch0000002?line=0'>1</a>\u001b[0m L\n",
      "\u001b[1;31mNameError\u001b[0m: name 'L' is not defined"
     ]
    }
   ],
   "source": [
    "L"
   ]
  },
  {
   "cell_type": "code",
   "execution_count": 3,
   "id": "d6570fb2",
   "metadata": {},
   "outputs": [],
   "source": [
    "import random\n",
    "random.shuffle(L)"
   ]
  },
  {
   "cell_type": "code",
   "execution_count": 4,
   "id": "459193ca",
   "metadata": {},
   "outputs": [
    {
     "data": {
      "text/plain": [
       "['green', 'white', 'yellow', 'blue', 'red']"
      ]
     },
     "execution_count": 4,
     "metadata": {},
     "output_type": "execute_result"
    }
   ],
   "source": [
    "L"
   ]
  },
  {
   "cell_type": "code",
   "execution_count": 5,
   "id": "da34d50c",
   "metadata": {},
   "outputs": [
    {
     "data": {
      "text/plain": [
       "['yellow', 'blue', 'green', 'white', 'red']"
      ]
     },
     "execution_count": 5,
     "metadata": {},
     "output_type": "execute_result"
    }
   ],
   "source": [
    "random.shuffle(L)\n",
    "L"
   ]
  },
  {
   "cell_type": "markdown",
   "id": "a42c7d53",
   "metadata": {},
   "source": [
    "#### 2. How to jumble the word?"
   ]
  },
  {
   "cell_type": "code",
   "execution_count": 6,
   "id": "63513f29",
   "metadata": {},
   "outputs": [],
   "source": [
    "s = \"computer\""
   ]
  },
  {
   "cell_type": "code",
   "execution_count": 8,
   "id": "06f055bf",
   "metadata": {},
   "outputs": [
    {
     "data": {
      "text/plain": [
       "['c', 'o', 'm', 'p', 'u', 't', 'e', 'r']"
      ]
     },
     "execution_count": 8,
     "metadata": {},
     "output_type": "execute_result"
    }
   ],
   "source": [
    "temp = list(s)\n",
    "temp"
   ]
  },
  {
   "cell_type": "code",
   "execution_count": 9,
   "id": "6573879c",
   "metadata": {},
   "outputs": [
    {
     "data": {
      "text/plain": [
       "['c', 'o', 'u', 'm', 'e', 'p', 't', 'r']"
      ]
     },
     "execution_count": 9,
     "metadata": {},
     "output_type": "execute_result"
    }
   ],
   "source": [
    "random.shuffle(temp)\n",
    "temp"
   ]
  },
  {
   "cell_type": "code",
   "execution_count": 10,
   "id": "1e5b7a0e",
   "metadata": {},
   "outputs": [
    {
     "data": {
      "text/plain": [
       "['p', 't', 'e', 'o', 'u', 'r', 'c', 'm']"
      ]
     },
     "execution_count": 10,
     "metadata": {},
     "output_type": "execute_result"
    }
   ],
   "source": [
    "random.shuffle(temp)\n",
    "temp"
   ]
  },
  {
   "cell_type": "code",
   "execution_count": 11,
   "id": "d77cedeb",
   "metadata": {},
   "outputs": [
    {
     "data": {
      "text/plain": [
       "'pteourcm'"
      ]
     },
     "execution_count": 11,
     "metadata": {},
     "output_type": "execute_result"
    }
   ],
   "source": [
    "''.join(temp)"
   ]
  },
  {
   "cell_type": "code",
   "execution_count": null,
   "id": "67d6ff7b",
   "metadata": {},
   "outputs": [],
   "source": []
  }
 ],
 "metadata": {
  "kernelspec": {
   "display_name": "Python 3.10.5 64-bit",
   "language": "python",
   "name": "python3"
  },
  "language_info": {
   "codemirror_mode": {
    "name": "ipython",
    "version": 3
   },
   "file_extension": ".py",
   "mimetype": "text/x-python",
   "name": "python",
   "nbconvert_exporter": "python",
   "pygments_lexer": "ipython3",
   "version": "3.10.5"
  },
  "vscode": {
   "interpreter": {
    "hash": "a42ccb73e7d9bfdf27e036f1d2b8b681e55fc0743cc5586bc2474d4a60f4b886"
   }
  }
 },
 "nbformat": 4,
 "nbformat_minor": 5
}
