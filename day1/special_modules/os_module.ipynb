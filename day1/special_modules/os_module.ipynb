{
 "cells": [
  {
   "cell_type": "code",
   "execution_count": 2,
   "id": "d790ad47",
   "metadata": {},
   "outputs": [],
   "source": [
    "import os\n",
    "import os.path\n",
    "import shutil"
   ]
  },
  {
   "cell_type": "code",
   "execution_count": 3,
   "id": "5240dddb",
   "metadata": {},
   "outputs": [
    {
     "data": {
      "text/plain": [
       "'C:\\\\Users\\\\Admin\\\\Desktop\\\\oracle\\\\day1\\\\special_modules'"
      ]
     },
     "execution_count": 3,
     "metadata": {},
     "output_type": "execute_result"
    }
   ],
   "source": [
    "os.getcwd()"
   ]
  },
  {
   "cell_type": "code",
   "execution_count": 4,
   "id": "1946eded",
   "metadata": {},
   "outputs": [],
   "source": [
    "os.chdir('./mydir')"
   ]
  },
  {
   "cell_type": "code",
   "execution_count": 5,
   "id": "cdd0bd50",
   "metadata": {},
   "outputs": [
    {
     "data": {
      "text/plain": [
       "'C:\\\\Users\\\\Admin\\\\Desktop\\\\oracle\\\\day1\\\\special_modules\\\\mydir'"
      ]
     },
     "execution_count": 5,
     "metadata": {},
     "output_type": "execute_result"
    }
   ],
   "source": [
    "os.getcwd()"
   ]
  },
  {
   "cell_type": "code",
   "execution_count": 6,
   "id": "fce18757",
   "metadata": {},
   "outputs": [
    {
     "data": {
      "text/plain": [
       "['data1.txt',\n",
       " 'data1.xlsx',\n",
       " 'data2.txt',\n",
       " 'data2.xlsx',\n",
       " 'data3.txt',\n",
       " 'pres1.pptx',\n",
       " 'pres2.pptx',\n",
       " 'road.jpg',\n",
       " 'sunflower.jpg']"
      ]
     },
     "execution_count": 6,
     "metadata": {},
     "output_type": "execute_result"
    }
   ],
   "source": [
    "os.listdir()"
   ]
  },
  {
   "cell_type": "code",
   "execution_count": 7,
   "id": "33885c02",
   "metadata": {},
   "outputs": [],
   "source": [
    "files = os.listdir()"
   ]
  },
  {
   "cell_type": "code",
   "execution_count": 16,
   "id": "db563177",
   "metadata": {},
   "outputs": [
    {
     "data": {
      "text/plain": [
       "{'jpg', 'pptx', 'txt', 'xlsx'}"
      ]
     },
     "execution_count": 16,
     "metadata": {},
     "output_type": "execute_result"
    }
   ],
   "source": [
    "# Extract the unique extentions for the files\n",
    "# os.path.splitext('sunflower.jpg')[1][1:]\n",
    "exts = {os.path.splitext(file)[1][1:] for file in files}\n",
    "exts"
   ]
  },
  {
   "cell_type": "code",
   "execution_count": 17,
   "id": "826e0dea",
   "metadata": {},
   "outputs": [],
   "source": [
    "# Create directories for each of the extentions\n",
    "for ext in exts:\n",
    "    os.mkdir(ext)"
   ]
  },
  {
   "cell_type": "code",
   "execution_count": 18,
   "id": "6705fa49",
   "metadata": {},
   "outputs": [],
   "source": [
    "# Move the files into respective folders\n",
    "for file in files:\n",
    "    src = file\n",
    "    dest = os.path.splitext(file)[1][1:]\n",
    "    finaldest = os.path.join(os.getcwd(), dest)\n",
    "    shutil.move(src, finaldest)"
   ]
  },
  {
   "cell_type": "code",
   "execution_count": null,
   "id": "1cc69610",
   "metadata": {},
   "outputs": [],
   "source": []
  }
 ],
 "metadata": {
  "kernelspec": {
   "display_name": "Python 3 (ipykernel)",
   "language": "python",
   "name": "python3"
  },
  "language_info": {
   "codemirror_mode": {
    "name": "ipython",
    "version": 3
   },
   "file_extension": ".py",
   "mimetype": "text/x-python",
   "name": "python",
   "nbconvert_exporter": "python",
   "pygments_lexer": "ipython3",
   "version": "3.9.12"
  }
 },
 "nbformat": 4,
 "nbformat_minor": 5
}
