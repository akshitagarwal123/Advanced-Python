{
 "cells": [
  {
   "cell_type": "code",
   "execution_count": 1,
   "id": "cff987c9",
   "metadata": {},
   "outputs": [],
   "source": [
    "import csv"
   ]
  },
  {
   "cell_type": "code",
   "execution_count": 2,
   "id": "ed1689be",
   "metadata": {},
   "outputs": [
    {
     "name": "stdout",
     "output_type": "stream",
     "text": [
      "['name', 'age', 'regid', 'phy', 'chem', 'math', 'bio', 'avg', 'rank']\n",
      "['Vijay', '14', 'HPE001', '99', '98', '97', '36', '0', '0']\n",
      "['Aryan', '14', 'HPE002', '98', '61', '93', '96', '0', '0']\n",
      "['Muni', '14', 'HPE003', '97', '98', '77', '94', '0', '0']\n",
      "['Abhi', '14', 'HPE004', '86', '93', '97', '95', '0', '0']\n",
      "['Hemanth', '14', 'HPE005', '94', '91', '93', '96', '0', '0']\n",
      "['Grace', '14', 'HPE006', '94', '65', '46', '67', '0', '0']\n",
      "['Ankita', '14', 'CAP007', '99', '99', '99', '99', '0', '0']\n",
      "['John', '14', 'HPE008', '96', '93', '77', '85', '0', '0']\n",
      "['Chris', '14', 'HPE009', '54', '91', '43', '96', '0', '0']\n",
      "['Grace', '14', 'ORA006', '67', '95', '96', '87', '0', '0']\n",
      "['Ankita', '14', 'INF007', '99', '99', '78', '99', '0', '0']\n",
      "['Ankita', '14', 'EDG007', '99', '99', '78', '99', '0', '0']\n"
     ]
    }
   ],
   "source": [
    "with open('students.csv', 'r') as studentfile:\n",
    "    data = csv.reader(studentfile)\n",
    "    for item in data:\n",
    "        print(item)"
   ]
  },
  {
   "cell_type": "code",
   "execution_count": 4,
   "id": "fb7cdd91",
   "metadata": {},
   "outputs": [
    {
     "ename": "ValueError",
     "evalue": "I/O operation on closed file.",
     "output_type": "error",
     "traceback": [
      "\u001b[1;31m---------------------------------------------------------------------------\u001b[0m",
      "\u001b[1;31mValueError\u001b[0m                                Traceback (most recent call last)",
      "Input \u001b[1;32mIn [4]\u001b[0m, in \u001b[0;36m<cell line: 1>\u001b[1;34m()\u001b[0m\n\u001b[1;32m----> 1\u001b[0m \u001b[38;5;28;01mfor\u001b[39;00m item \u001b[38;5;129;01min\u001b[39;00m data:\n\u001b[0;32m      2\u001b[0m     \u001b[38;5;28mprint\u001b[39m(item)\n",
      "\u001b[1;31mValueError\u001b[0m: I/O operation on closed file."
     ]
    }
   ],
   "source": [
    "for item in data:\n",
    "    print(item)"
   ]
  },
  {
   "cell_type": "code",
   "execution_count": 5,
   "id": "1d23218d",
   "metadata": {},
   "outputs": [],
   "source": [
    "# The above error appears because the control has come out of the with as construct"
   ]
  },
  {
   "cell_type": "code",
   "execution_count": 6,
   "id": "c8046020",
   "metadata": {},
   "outputs": [],
   "source": [
    "with open('students_report.csv', 'w') as studentfile:\n",
    "    file = csv.writer(studentfile)\n",
    "    file.writerow(['name', 'age', 'regid', 'total'])\n",
    "    file.writerow(['Vijay', '14', 'HPE001', '400'])"
   ]
  },
  {
   "cell_type": "code",
   "execution_count": 13,
   "id": "a19ad86e",
   "metadata": {},
   "outputs": [
    {
     "name": "stdout",
     "output_type": "stream",
     "text": [
      "{'name': 'Vijay', 'age': '14', 'regid': 'HPE001', 'phy': '99', 'chem': '98', 'math': '97', 'bio': '36', 'avg': '0', 'rank': '0'}\n",
      "{'name': 'Aryan', 'age': '14', 'regid': 'HPE002', 'phy': '98', 'chem': '61', 'math': '93', 'bio': '96', 'avg': '0', 'rank': '0'}\n",
      "{'name': 'Muni', 'age': '14', 'regid': 'HPE003', 'phy': '97', 'chem': '98', 'math': '77', 'bio': '94', 'avg': '0', 'rank': '0'}\n",
      "{'name': 'Abhi', 'age': '14', 'regid': 'HPE004', 'phy': '86', 'chem': '93', 'math': '97', 'bio': '95', 'avg': '0', 'rank': '0'}\n",
      "{'name': 'Hemanth', 'age': '14', 'regid': 'HPE005', 'phy': '94', 'chem': '91', 'math': '93', 'bio': '96', 'avg': '0', 'rank': '0'}\n",
      "{'name': 'Grace', 'age': '14', 'regid': 'HPE006', 'phy': '94', 'chem': '65', 'math': '46', 'bio': '67', 'avg': '0', 'rank': '0'}\n",
      "{'name': 'Ankita', 'age': '14', 'regid': 'CAP007', 'phy': '99', 'chem': '99', 'math': '99', 'bio': '99', 'avg': '0', 'rank': '0'}\n",
      "{'name': 'John', 'age': '14', 'regid': 'HPE008', 'phy': '96', 'chem': '93', 'math': '77', 'bio': '85', 'avg': '0', 'rank': '0'}\n",
      "{'name': 'Chris', 'age': '14', 'regid': 'HPE009', 'phy': '54', 'chem': '91', 'math': '43', 'bio': '96', 'avg': '0', 'rank': '0'}\n",
      "{'name': 'Grace', 'age': '14', 'regid': 'ORA006', 'phy': '67', 'chem': '95', 'math': '96', 'bio': '87', 'avg': '0', 'rank': '0'}\n",
      "{'name': 'Ankita', 'age': '14', 'regid': 'INF007', 'phy': '99', 'chem': '99', 'math': '78', 'bio': '99', 'avg': '0', 'rank': '0'}\n",
      "{'name': 'Ankita', 'age': '14', 'regid': 'EDG007', 'phy': '99', 'chem': '99', 'math': '78', 'bio': '99', 'avg': '0', 'rank': '0'}\n"
     ]
    }
   ],
   "source": [
    "with open('students.csv', 'r') as studentfile:\n",
    "    reader = csv.DictReader(studentfile)\n",
    "    for item in reader:\n",
    "        print(item)"
   ]
  },
  {
   "cell_type": "code",
   "execution_count": 10,
   "id": "3f781c49",
   "metadata": {},
   "outputs": [],
   "source": [
    "with open('students_report2.csv', 'w') as studentfile:\n",
    "    fields = ['name', 'age', 'regid', 'total']\n",
    "    writer = csv.DictWriter(studentfile, fieldnames=fields)\n",
    "    writer.writeheader()\n",
    "    \n",
    "    writer.writerow({'name': 'Ankita', 'age': '14', 'regid': 'EDG007', 'total': '376'})\n",
    "    writer.writerow({'name': 'Ankita', 'age': '14', 'regid': 'EDG007', 'total': '376'})\n",
    "    writer.writerow({'name': 'Ankita', 'age': '14', 'regid': 'EDG007', 'total': '376'})\n",
    "    "
   ]
  },
  {
   "cell_type": "code",
   "execution_count": null,
   "id": "162f641c",
   "metadata": {},
   "outputs": [],
   "source": []
  }
 ],
 "metadata": {
  "kernelspec": {
   "display_name": "Python 3 (ipykernel)",
   "language": "python",
   "name": "python3"
  },
  "language_info": {
   "codemirror_mode": {
    "name": "ipython",
    "version": 3
   },
   "file_extension": ".py",
   "mimetype": "text/x-python",
   "name": "python",
   "nbconvert_exporter": "python",
   "pygments_lexer": "ipython3",
   "version": "3.9.12"
  }
 },
 "nbformat": 4,
 "nbformat_minor": 5
}
