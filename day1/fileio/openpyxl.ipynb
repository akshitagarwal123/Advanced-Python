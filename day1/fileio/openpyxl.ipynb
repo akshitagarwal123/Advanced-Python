{
 "cells": [
  {
   "cell_type": "code",
   "execution_count": 1,
   "id": "229f553e",
   "metadata": {},
   "outputs": [],
   "source": [
    "from openpyxl import load_workbook"
   ]
  },
  {
   "cell_type": "code",
   "execution_count": 2,
   "id": "b9f588f2",
   "metadata": {},
   "outputs": [],
   "source": [
    "wb = load_workbook(filename = 'studentsdata.xlsx')"
   ]
  },
  {
   "cell_type": "code",
   "execution_count": 3,
   "id": "96df07c4",
   "metadata": {},
   "outputs": [
    {
     "data": {
      "text/plain": [
       "<openpyxl.workbook.workbook.Workbook at 0x232cb5fc1f0>"
      ]
     },
     "execution_count": 3,
     "metadata": {},
     "output_type": "execute_result"
    }
   ],
   "source": [
    "wb"
   ]
  },
  {
   "cell_type": "code",
   "execution_count": 4,
   "id": "fcb147ee",
   "metadata": {},
   "outputs": [
    {
     "data": {
      "text/plain": [
       "['report_completed']"
      ]
     },
     "execution_count": 4,
     "metadata": {},
     "output_type": "execute_result"
    }
   ],
   "source": [
    "wb.sheetnames"
   ]
  },
  {
   "cell_type": "code",
   "execution_count": 6,
   "id": "55272ca7",
   "metadata": {},
   "outputs": [],
   "source": [
    "worksheet = wb['report_completed']"
   ]
  },
  {
   "cell_type": "code",
   "execution_count": 9,
   "id": "844f9034",
   "metadata": {},
   "outputs": [
    {
     "data": {
      "text/plain": [
       "'Muni'"
      ]
     },
     "execution_count": 9,
     "metadata": {},
     "output_type": "execute_result"
    }
   ],
   "source": [
    "worksheet['B4'].value"
   ]
  },
  {
   "cell_type": "code",
   "execution_count": 11,
   "id": "06b38bcc",
   "metadata": {},
   "outputs": [
    {
     "data": {
      "text/plain": [
       "'Munishwar'"
      ]
     },
     "execution_count": 11,
     "metadata": {},
     "output_type": "execute_result"
    }
   ],
   "source": [
    "worksheet['B4'] = 'Munishwar'\n",
    "worksheet['B4'].value"
   ]
  },
  {
   "cell_type": "code",
   "execution_count": 14,
   "id": "01ab7ff3",
   "metadata": {},
   "outputs": [
    {
     "data": {
      "text/plain": [
       "'Munishwar'"
      ]
     },
     "execution_count": 14,
     "metadata": {},
     "output_type": "execute_result"
    }
   ],
   "source": [
    "worksheet.cell(row=4, column=2).value"
   ]
  },
  {
   "cell_type": "code",
   "execution_count": 17,
   "id": "13e4def5",
   "metadata": {},
   "outputs": [
    {
     "data": {
      "text/plain": [
       "'Munishwar M'"
      ]
     },
     "execution_count": 17,
     "metadata": {},
     "output_type": "execute_result"
    }
   ],
   "source": [
    "worksheet.cell(row=4, column=2, value='Munishwar M')\n",
    "worksheet.cell(row=4, column=2).value"
   ]
  },
  {
   "cell_type": "code",
   "execution_count": 21,
   "id": "be5a5666",
   "metadata": {},
   "outputs": [
    {
     "data": {
      "text/plain": [
       "((<Cell 'report_completed'.A1>,\n",
       "  <Cell 'report_completed'.B1>,\n",
       "  <Cell 'report_completed'.C1>),\n",
       " (<Cell 'report_completed'.A2>,\n",
       "  <Cell 'report_completed'.B2>,\n",
       "  <Cell 'report_completed'.C2>))"
      ]
     },
     "execution_count": 21,
     "metadata": {},
     "output_type": "execute_result"
    }
   ],
   "source": [
    "worksheet['A1':'C2']"
   ]
  },
  {
   "cell_type": "code",
   "execution_count": 23,
   "id": "c08422d5",
   "metadata": {},
   "outputs": [
    {
     "name": "stdout",
     "output_type": "stream",
     "text": [
      "<Cell 'report_completed'.A1>\n",
      "<Cell 'report_completed'.B1>\n",
      "<Cell 'report_completed'.C1>\n",
      "<Cell 'report_completed'.A2>\n",
      "<Cell 'report_completed'.B2>\n",
      "<Cell 'report_completed'.C2>\n"
     ]
    }
   ],
   "source": [
    "for row in worksheet.iter_rows(min_row=1, max_col=3, max_row=2):\n",
    "...    for cell in row:\n",
    "...        print(cell)"
   ]
  },
  {
   "cell_type": "code",
   "execution_count": 24,
   "id": "8a5f5593",
   "metadata": {},
   "outputs": [
    {
     "name": "stdout",
     "output_type": "stream",
     "text": [
      "None\n",
      "name\n",
      "age\n",
      "regid\n",
      "phy\n",
      "chem\n",
      "math\n",
      "bio\n",
      "avg\n",
      "rank\n",
      "total\n",
      "0\n",
      "Vijay\n",
      "14\n",
      "HPE001\n",
      "99\n",
      "98\n",
      "97\n",
      "36\n",
      "82.5\n",
      "9\n",
      "330\n",
      "1\n",
      "Aryan\n",
      "14\n",
      "HPE002\n",
      "98\n",
      "61\n",
      "93\n",
      "96\n",
      "87\n",
      "7\n",
      "348\n",
      "2\n",
      "Munishwar M\n",
      "14\n",
      "HPE003\n",
      "97\n",
      "98\n",
      "77\n",
      "94\n",
      "91.5\n",
      "5\n",
      "366\n",
      "3\n",
      "Abhi\n",
      "14\n",
      "HPE004\n",
      "86\n",
      "93\n",
      "97\n",
      "95\n",
      "92.75\n",
      "4\n",
      "371\n",
      "4\n",
      "Hemanth\n",
      "14\n",
      "HPE005\n",
      "94\n",
      "91\n",
      "93\n",
      "96\n",
      "93.5\n",
      "3\n",
      "374\n",
      "5\n",
      "Grace\n",
      "14\n",
      "HPE006\n",
      "94\n",
      "65\n",
      "46\n",
      "67\n",
      "68\n",
      "11\n",
      "272\n",
      "6\n",
      "Ankita\n",
      "14\n",
      "CAP007\n",
      "99\n",
      "99\n",
      "99\n",
      "99\n",
      "99\n",
      "1\n",
      "396\n",
      "7\n",
      "John\n",
      "14\n",
      "HPE008\n",
      "96\n",
      "93\n",
      "77\n",
      "85\n",
      "87.75\n",
      "6\n",
      "351\n",
      "8\n",
      "Chris\n",
      "14\n",
      "HPE009\n",
      "54\n",
      "91\n",
      "43\n",
      "96\n",
      "71\n",
      "10\n",
      "284\n",
      "9\n",
      "Grace\n",
      "14\n",
      "ORA006\n",
      "67\n",
      "95\n",
      "96\n",
      "87\n",
      "86.25\n",
      "8\n",
      "345\n",
      "10\n",
      "Ankita\n",
      "14\n",
      "INF007\n",
      "99\n",
      "99\n",
      "78\n",
      "99\n",
      "93.75\n",
      "2\n",
      "375\n",
      "11\n",
      "Ankita\n",
      "14\n",
      "EDG007\n",
      "99\n",
      "99\n",
      "78\n",
      "99\n",
      "93.75\n",
      "2\n",
      "375\n"
     ]
    }
   ],
   "source": [
    "for row in worksheet.values:\n",
    "   for value in row:\n",
    "     print(value)"
   ]
  },
  {
   "cell_type": "code",
   "execution_count": 26,
   "id": "7f1f9c17",
   "metadata": {},
   "outputs": [],
   "source": [
    "wb.save('newstudentsdata.xlsx')"
   ]
  },
  {
   "cell_type": "code",
   "execution_count": null,
   "id": "088922d4",
   "metadata": {},
   "outputs": [],
   "source": []
  }
 ],
 "metadata": {
  "kernelspec": {
   "display_name": "Python 3 (ipykernel)",
   "language": "python",
   "name": "python3"
  },
  "language_info": {
   "codemirror_mode": {
    "name": "ipython",
    "version": 3
   },
   "file_extension": ".py",
   "mimetype": "text/x-python",
   "name": "python",
   "nbconvert_exporter": "python",
   "pygments_lexer": "ipython3",
   "version": "3.9.12"
  }
 },
 "nbformat": 4,
 "nbformat_minor": 5
}
